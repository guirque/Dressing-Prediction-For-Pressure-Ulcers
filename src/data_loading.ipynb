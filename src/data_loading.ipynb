{
 "cells": [
  {
   "cell_type": "markdown",
   "id": "5bbfaefc",
   "metadata": {},
   "source": [
    "# Loading Data"
   ]
  },
  {
   "cell_type": "code",
   "execution_count": null,
   "id": "bdb72a25",
   "metadata": {},
   "outputs": [],
   "source": [
    "from torch.utils.data import Dataset, DataLoader"
   ]
  },
  {
   "cell_type": "markdown",
   "id": "38478ea4",
   "metadata": {},
   "source": [
    "### Removing Label Studio IDs from Label Files"
   ]
  },
  {
   "cell_type": "code",
   "execution_count": null,
   "id": "7aaaefc4",
   "metadata": {},
   "outputs": [],
   "source": [
    "# Remove specific ids from labels\n",
    "import os\n",
    "\n",
    "LABEL_PATH = '../data/unzipped/labels'\n",
    "\n",
    "RENAME = False\n",
    "\n",
    "if RENAME:\n",
    "    for file_name in os.listdir(LABEL_PATH):\n",
    "        file_path = os.path.join(LABEL_PATH, file_name)\n",
    "        new_file_name = file_name.split('-')[1]\n",
    "\n",
    "        #print(f'Renamed {file_name} to {new_file_name}')\n",
    "        os.rename(file_path, os.path.join(LABEL_PATH, new_file_name))"
   ]
  },
  {
   "cell_type": "markdown",
   "id": "82bfc81f",
   "metadata": {},
   "source": [
    "### Mapping Classes"
   ]
  },
  {
   "cell_type": "code",
   "execution_count": null,
   "id": "8fd0aaef",
   "metadata": {},
   "outputs": [],
   "source": [
    "import pandas as pd\n",
    "import json\n",
    "\n",
    "# It is expected that there's a JSON file with the following format:\n",
    "# {\"categories\": [{\"id\": 1, \"name\": \"class_name\"}, ...], ...}\n",
    "JSON_MAPPING_PATH = '../data/unzipped/notes.json'\n",
    "\n",
    "class_map = [None]\n",
    "\n",
    "with open(JSON_MAPPING_PATH, 'r') as file:\n",
    "    class_list = json.loads(file.read())['categories']\n",
    "    for class_mapping in class_list:\n",
    "        class_map.append(class_mapping['name'])\n",
    "\n",
    "\n",
    "class_map"
   ]
  },
  {
   "cell_type": "markdown",
   "id": "e9d9fc26",
   "metadata": {},
   "source": [
    "### Making Dataset"
   ]
  },
  {
   "cell_type": "code",
   "execution_count": null,
   "id": "926f2990",
   "metadata": {},
   "outputs": [],
   "source": [
    "import os\n",
    "import PIL.Image\n",
    "import numpy as np\n",
    "import torchvision.transforms as ttran\n",
    "\n",
    "class PressureUlcers(Dataset):\n",
    "\n",
    "    def __init__(self, images_path, labels_path, transform):\n",
    "        \"\"\"\n",
    "        - *images_path*: folder with each image to load.\n",
    "        - *labels_path*: folder with .txt files with corresponding labels. Each file must be named exactly like its counterpart.\n",
    "        \"\"\"\n",
    "        super().__init__()\n",
    "        # We need to load everything in a specific format, appropriate for YOLO\n",
    "        # We'll store only the img paths to use and labels.\n",
    "\n",
    "        self.transform = transform\n",
    "        self.X = []\n",
    "        self.y = []\n",
    "\n",
    "        # For each folder\n",
    "        for folder_name in os.listdir(images_path):\n",
    "\n",
    "            # Get image paths\n",
    "            folder_files = os.listdir(os.path.join(images_path, folder_name))\n",
    "\n",
    "            # For each image, get its corresponding labels (it can have multiple)\n",
    "            for file_name in folder_files:\n",
    "                self.X.append(os.path.join(images_path, folder_name, file_name))\n",
    "                file_name = f'{file_name.split('.')[0]}.txt'\n",
    "\n",
    "                 # If it's a classified folder\n",
    "                if folder_name != 'Invalid':\n",
    "                    # Read file\n",
    "                    label_file_path = os.path.join(labels_path, file_name)\n",
    "                    data = pd.read_csv(label_file_path, sep=' ', header=None).to_numpy()\n",
    "                    self.y.append(data)\n",
    "                # Otherwise, insert an empty label\n",
    "                else:\n",
    "                    self.y.append(np.array([]))\n",
    "\n",
    "            print(f'folder: {folder_name}\\nfiles: {folder_files}\\n\\n')\n",
    "\n",
    "    def __getitem__(self, index):\n",
    "        \"\"\"\n",
    "        Returns, for **index**:\n",
    "            PIL_img: unaltered PIL image.\n",
    "            transformed_img: tensor of transformed PIL image.\n",
    "            labels: list of numpy arrays, each with format [class, x, y, width, height].\n",
    "        \"\"\"\n",
    "        pil_img = PIL.Image.open(self.X[index])\n",
    "        return pil_img, self.transform(pil_img), self.y[index]\n",
    "\n",
    "    def __len__(self):\n",
    "        return len(self.X)\n",
    "\n",
    "transform = ttran.PILToTensor()\n",
    "\n",
    "ds = PressureUlcers('../data/images', '../data/unzipped/labels', transform)"
   ]
  },
  {
   "cell_type": "markdown",
   "id": "61030246",
   "metadata": {},
   "source": [
    "## Testing Specific Index"
   ]
  },
  {
   "cell_type": "code",
   "execution_count": null,
   "id": "837b46a1",
   "metadata": {},
   "outputs": [],
   "source": [
    "pil_img, tensor_img, labels = ds[0]"
   ]
  },
  {
   "cell_type": "markdown",
   "id": "c6090a81",
   "metadata": {},
   "source": [
    "## Displaying Index Data"
   ]
  },
  {
   "cell_type": "code",
   "execution_count": null,
   "id": "7f4518df",
   "metadata": {},
   "outputs": [],
   "source": [
    "from display import display_img_boxes\n",
    "\n",
    "display_img_boxes(pil_img, labels, class_map)"
   ]
  },
  {
   "cell_type": "markdown",
   "id": "09ad6f63",
   "metadata": {},
   "source": [
    "## Data Analysis"
   ]
  },
  {
   "cell_type": "code",
   "execution_count": null,
   "id": "37762244",
   "metadata": {},
   "outputs": [],
   "source": [
    "frequencies = {}\n",
    "\n",
    "for i in range(len(ds)):\n",
    "    _, _, labels = ds[i]\n",
    "    for label in labels:\n",
    "        class_id = class_map[int(label[0])]\n",
    "        if class_id not in frequencies.keys():\n",
    "            frequencies[class_id] = 1\n",
    "        else:\n",
    "            frequencies[class_id] += 1\n",
    "\n",
    "frequencies"
   ]
  },
  {
   "cell_type": "code",
   "execution_count": null,
   "id": "881b47c9",
   "metadata": {},
   "outputs": [],
   "source": [
    "import matplotlib.pyplot as plt\n",
    "\n",
    "plt.barh(frequencies.keys(), frequencies.values())"
   ]
  }
 ],
 "metadata": {
  "kernelspec": {
   "display_name": "modeling_venv",
   "language": "python",
   "name": "python3"
  },
  "language_info": {
   "codemirror_mode": {
    "name": "ipython",
    "version": 3
   },
   "file_extension": ".py",
   "mimetype": "text/x-python",
   "name": "python",
   "nbconvert_exporter": "python",
   "pygments_lexer": "ipython3",
   "version": "3.12.3"
  }
 },
 "nbformat": 4,
 "nbformat_minor": 5
}
